{
 "cells": [
  {
   "cell_type": "code",
   "execution_count": 1,
   "metadata": {},
   "outputs": [],
   "source": [
    "# import packages\n",
    "import json\n",
    "\n",
    "from src.rlsdk import Task"
   ]
  },
  {
   "cell_type": "code",
   "execution_count": null,
   "metadata": {},
   "outputs": [],
   "source": [
    "task_dir = 'src/tests/examples'\n",
    "# load task configs\n",
    "with open(f'{task_dir}/task.json', 'r') as f:\n",
    "    configs = json.load(f)\n",
    "# load simenv configs\n",
    "with open(f'{task_dir}/simenv/args.json', 'r') as f1, \\\n",
    "     open(f'{task_dir}/simenv/sim_term_func.cpp', 'r') as f2:\n",
    "    args = json.load(f1)\n",
    "    args['proxy']['sim_term_func'] = f2.read()\n",
    "# load agent configs\n",
    "with open(f'{task_dir}/agent/hypers.json', 'r') as f1, \\\n",
    "     open(f'{task_dir}/agent/states_inputs_func.py', 'r') as f2, \\\n",
    "     open(f'{task_dir}/agent/outputs_actions_func.py', 'r') as f3, \\\n",
    "     open(f'{task_dir}/agent/reward_func.py', 'r') as f4:\n",
    "    hypers = json.load(f1)\n",
    "    sifunc = f2.read()\n",
    "    oafunc = f3.read()\n",
    "    rewfunc = f4.read()\n",
    "# combine configs\n",
    "configs['simenv-main']['configs']['args'] = args\n",
    "configs['agent-main']['configs']['hypers'] = hypers\n",
    "configs['agent-main']['configs']['sifunc'] = sifunc\n",
    "configs['agent-main']['configs']['oafunc'] = oafunc\n",
    "configs['agent-main']['configs']['rewfunc'] = rewfunc"
   ]
  },
  {
   "cell_type": "code",
   "execution_count": null,
   "metadata": {},
   "outputs": [],
   "source": [
    "# new task\n",
    "task = Task(configs=configs)\n",
    "# push configs to BFF\n",
    "task.push(bff_addr='localhost:10000', reset=True)"
   ]
  },
  {
   "cell_type": "code",
   "execution_count": 2,
   "metadata": {},
   "outputs": [],
   "source": [
    "# new task\n",
    "task = Task()\n",
    "# pull configs from BFF\n",
    "task.pull(bff_addr='localhost:10000', reset=True)"
   ]
  },
  {
   "cell_type": "code",
   "execution_count": null,
   "metadata": {},
   "outputs": [],
   "source": [
    "# task details\n",
    "details = task.details()\n",
    "print(details)"
   ]
  },
  {
   "cell_type": "code",
   "execution_count": null,
   "metadata": {},
   "outputs": [],
   "source": [
    "# simenv start\n",
    "task.start()"
   ]
  },
  {
   "cell_type": "code",
   "execution_count": null,
   "metadata": {},
   "outputs": [],
   "source": [
    "# simenv pause\n",
    "task.pause()"
   ]
  },
  {
   "cell_type": "code",
   "execution_count": null,
   "metadata": {},
   "outputs": [],
   "source": [
    "# simenv resume\n",
    "task.resume()"
   ]
  },
  {
   "cell_type": "code",
   "execution_count": null,
   "metadata": {},
   "outputs": [],
   "source": [
    "# simenv stop\n",
    "task.stop()"
   ]
  },
  {
   "cell_type": "code",
   "execution_count": null,
   "metadata": {},
   "outputs": [],
   "source": [
    "# simens infos\n",
    "infos = task.monitor()\n",
    "print(infos)"
   ]
  },
  {
   "cell_type": "code",
   "execution_count": null,
   "metadata": {},
   "outputs": [],
   "source": [
    "# switch agent training mode\n",
    "task.switch_training(mode=True)"
   ]
  },
  {
   "cell_type": "code",
   "execution_count": null,
   "metadata": {},
   "outputs": [],
   "source": [
    "# get agent weights\n",
    "weights = task.get_weights(id='agent-main')\n",
    "print(weights)"
   ]
  },
  {
   "cell_type": "code",
   "execution_count": null,
   "metadata": {},
   "outputs": [],
   "source": [
    "# get agent buffer\n",
    "buffer = task.get_buffer(id='agent-main')\n",
    "print(buffer)"
   ]
  },
  {
   "cell_type": "code",
   "execution_count": null,
   "metadata": {},
   "outputs": [],
   "source": [
    "# get agent status\n",
    "status = task.get_status(id='agent-main')\n",
    "print(status)"
   ]
  },
  {
   "cell_type": "code",
   "execution_count": null,
   "metadata": {},
   "outputs": [],
   "source": [
    "# reset service\n",
    "task.bff_client.reset_service()\n",
    "task.bff_client.reset_server()"
   ]
  },
  {
   "cell_type": "code",
   "execution_count": 3,
   "metadata": {},
   "outputs": [
    {
     "data": {
      "text/plain": [
       "{'simenv-main': ('reset-proxy', '', '')}"
      ]
     },
     "execution_count": 3,
     "metadata": {},
     "output_type": "execute_result"
    }
   ],
   "source": [
    "task.bff_client.call({'simenv-main': ('reset-proxy', '', b'')})"
   ]
  }
 ],
 "metadata": {
  "kernelspec": {
   "display_name": "game",
   "language": "python",
   "name": "python3"
  },
  "language_info": {
   "codemirror_mode": {
    "name": "ipython",
    "version": 3
   },
   "file_extension": ".py",
   "mimetype": "text/x-python",
   "name": "python",
   "nbconvert_exporter": "python",
   "pygments_lexer": "ipython3",
   "version": "3.10.4"
  },
  "orig_nbformat": 4,
  "vscode": {
   "interpreter": {
    "hash": "dabbf6b294e66fc400069996843c2fba1dbc142941693dfeb31e6853ed573842"
   }
  }
 },
 "nbformat": 4,
 "nbformat_minor": 2
}
