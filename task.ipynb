{
 "cells": [
  {
   "cell_type": "code",
   "execution_count": null,
   "metadata": {},
   "outputs": [],
   "source": [
    "# import packages\n",
    "import json\n",
    "import pickle\n",
    "\n",
    "from rlsdk import Client, Task\n",
    "\n",
    "root = 'src/tests/examples'"
   ]
  },
  {
   "cell_type": "code",
   "execution_count": null,
   "metadata": {},
   "outputs": [],
   "source": [
    "# upload custom model\n",
    "client = Client('localhost:10000')\n",
    "client.upload_custom_model('path/to/your/model.py')"
   ]
  },
  {
   "cell_type": "code",
   "execution_count": null,
   "metadata": {},
   "outputs": [],
   "source": [
    "# upload custom model\n",
    "client = Client('localhost:10000')\n",
    "client.upload_custom_engine('path/to/your/engine')"
   ]
  },
  {
   "cell_type": "code",
   "execution_count": null,
   "metadata": {},
   "outputs": [],
   "source": [
    "# new task\n",
    "task = Task.from_files(root)\n",
    "# push configs to BFF\n",
    "task.push(address='localhost:10000', reset=True)"
   ]
  },
  {
   "cell_type": "code",
   "execution_count": null,
   "metadata": {},
   "outputs": [],
   "source": [
    "# new task\n",
    "task = Task()\n",
    "# pull configs from BFF\n",
    "task.pull(address='localhost:10000', reset=True)"
   ]
  },
  {
   "cell_type": "code",
   "execution_count": null,
   "metadata": {},
   "outputs": [],
   "source": [
    "# task details\n",
    "details = task.details()\n",
    "print(details)"
   ]
  },
  {
   "cell_type": "code",
   "execution_count": null,
   "metadata": {},
   "outputs": [],
   "source": [
    "# task init\n",
    "task.init()"
   ]
  },
  {
   "cell_type": "code",
   "execution_count": null,
   "metadata": {},
   "outputs": [],
   "source": [
    "# task start\n",
    "task.start()"
   ]
  },
  {
   "cell_type": "code",
   "execution_count": null,
   "metadata": {},
   "outputs": [],
   "source": [
    "# task pause\n",
    "task.pause()"
   ]
  },
  {
   "cell_type": "code",
   "execution_count": null,
   "metadata": {},
   "outputs": [],
   "source": [
    "# task resume\n",
    "task.resume()"
   ]
  },
  {
   "cell_type": "code",
   "execution_count": null,
   "metadata": {},
   "outputs": [],
   "source": [
    "# task stop\n",
    "task.stop()"
   ]
  },
  {
   "cell_type": "code",
   "execution_count": null,
   "metadata": {},
   "outputs": [],
   "source": [
    "# simenvs infos\n",
    "infos = task.monitor()\n",
    "print(infos)"
   ]
  },
  {
   "cell_type": "code",
   "execution_count": null,
   "metadata": {},
   "outputs": [],
   "source": [
    "# switch agent training mode\n",
    "task.switch_training()"
   ]
  },
  {
   "cell_type": "code",
   "execution_count": null,
   "metadata": {},
   "outputs": [],
   "source": [
    "# get agent weights\n",
    "weights = task.get_weights(id='agent')\n",
    "with open(f'{root}/agent/weights.pkl', 'wb') as f:\n",
    "    pickle.dump(weights, f)"
   ]
  },
  {
   "cell_type": "code",
   "execution_count": null,
   "metadata": {},
   "outputs": [],
   "source": [
    "# set agent weights\n",
    "with open(f'{root}/agent/weights.pkl', 'rb') as f:\n",
    "    weights = pickle.load(f)\n",
    "task.set_weights(id='agent', weights=weights)"
   ]
  },
  {
   "cell_type": "code",
   "execution_count": null,
   "metadata": {},
   "outputs": [],
   "source": [
    "# get agent buffer\n",
    "buffer = task.get_buffer(id='agent')\n",
    "with open(f'{root}/agent/buffer.pkl', 'wb') as f:\n",
    "    pickle.dump(buffer, f)"
   ]
  },
  {
   "cell_type": "code",
   "execution_count": null,
   "metadata": {},
   "outputs": [],
   "source": [
    "# set agent buffer\n",
    "with open(f'{root}/agent/buffer.pkl', 'rb') as f:\n",
    "    buffer = pickle.load(f)\n",
    "task.set_buffer(id='agent', buffer=buffer)"
   ]
  },
  {
   "cell_type": "code",
   "execution_count": null,
   "metadata": {},
   "outputs": [],
   "source": [
    "# get agent status\n",
    "status = task.get_status(id='agent')\n",
    "with open(f'{root}/agent/status.json', 'w') as f:\n",
    "    json.dump(status, f)"
   ]
  },
  {
   "cell_type": "code",
   "execution_count": null,
   "metadata": {},
   "outputs": [],
   "source": [
    "# set agent status\n",
    "with open(f'{root}/agent/status.json', 'r') as f:\n",
    "    status = json.load(f)\n",
    "task.set_status(id='agent', status=status)"
   ]
  },
  {
   "cell_type": "code",
   "execution_count": null,
   "metadata": {},
   "outputs": [],
   "source": [
    "# reset service\n",
    "task.client.reset_service()"
   ]
  },
  {
   "cell_type": "code",
   "execution_count": null,
   "metadata": {},
   "outputs": [],
   "source": [
    "# reset server\n",
    "task.client.reset_server()"
   ]
  },
  {
   "cell_type": "code",
   "execution_count": null,
   "metadata": {},
   "outputs": [],
   "source": [
    "# any other call\n",
    "# task.client.call({'id': ('name', 'dstr', b'dbin')})"
   ]
  }
 ],
 "metadata": {
  "kernelspec": {
   "display_name": "game",
   "language": "python",
   "name": "python3"
  },
  "language_info": {
   "codemirror_mode": {
    "name": "ipython",
    "version": 3
   },
   "file_extension": ".py",
   "mimetype": "text/x-python",
   "name": "python",
   "nbconvert_exporter": "python",
   "pygments_lexer": "ipython3",
   "version": "3.10.4"
  },
  "orig_nbformat": 4,
  "vscode": {
   "interpreter": {
    "hash": "dabbf6b294e66fc400069996843c2fba1dbc142941693dfeb31e6853ed573842"
   }
  }
 },
 "nbformat": 4,
 "nbformat_minor": 2
}
